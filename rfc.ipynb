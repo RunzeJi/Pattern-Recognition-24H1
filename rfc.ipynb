{
 "cells": [
  {
   "cell_type": "code",
   "execution_count": 1,
   "metadata": {},
   "outputs": [],
   "source": [
    "import os\n",
    "import pandas as pd\n",
    "from tqdm import tqdm\n",
    "from sklearn.model_selection import train_test_split\n",
    "from sklearn.preprocessing import LabelEncoder\n",
    "from sklearn.ensemble import RandomForestClassifier\n",
    "from sklearn.metrics import accuracy_score"
   ]
  },
  {
   "cell_type": "code",
   "execution_count": null,
   "metadata": {},
   "outputs": [],
   "source": [
    "train_files_directory = '../train'\n",
    "train_files = os.listdir(train_files_directory)"
   ]
  },
  {
   "cell_type": "code",
   "execution_count": null,
   "metadata": {},
   "outputs": [],
   "source": [
    "label_encoder = LabelEncoder()"
   ]
  },
  {
   "cell_type": "code",
   "execution_count": null,
   "metadata": {},
   "outputs": [],
   "source": [
    "all_labels = []\n",
    "\n",
    "train_files_lb = tqdm(train_files)\n",
    "train_files_lb.set_description('[preproc.label] Collecting Unique Labels')\n",
    "\n",
    "for file in train_files_lb:\n",
    "    file_path = os.path.join(train_files_directory, file)\n",
    "    data = pd.read_csv(file_path)\n",
    "    all_labels.extend(data['type'].unique())"
   ]
  },
  {
   "cell_type": "code",
   "execution_count": null,
   "metadata": {},
   "outputs": [],
   "source": [
    "label_encoder.fit(all_labels)"
   ]
  },
  {
   "cell_type": "code",
   "execution_count": null,
   "metadata": {},
   "outputs": [],
   "source": [
    "X_all = []\n",
    "y_all = []\n",
    "\n",
    "train_files_pb = tqdm(train_files)\n",
    "train_files_pb.set_description('[preproc.file.load]')\n",
    "\n",
    "for file in train_files_pb:\n",
    "    file_path = os.path.join(train_files_directory, file)\n",
    "\n",
    "    data = pd.read_csv(file_path)\n",
    "    \n",
    "    # 转换时间列，提取特征等\n",
    "    data['time'] = pd.to_datetime(data['time'])\n",
    "    data['hour'] = data['time'].dt.hour\n",
    "    data['day_of_week'] = data['time'].dt.dayofweek\n",
    "    \n",
    "    # 使用转换后的标签\n",
    "    data['type_encoded'] = label_encoder.transform(data['type'])\n",
    "    \n",
    "    X = data[['lat', 'lon', '速度', '方向', 'hour', 'day_of_week']]\n",
    "    y = data['type_encoded']\n",
    "    \n",
    "    X_all.append(X)\n",
    "    y_all.append(y)"
   ]
  }
 ],
 "metadata": {
  "kernelspec": {
   "display_name": "Python 3",
   "language": "python",
   "name": "python3"
  },
  "language_info": {
   "codemirror_mode": {
    "name": "ipython",
    "version": 3
   },
   "file_extension": ".py",
   "mimetype": "text/x-python",
   "name": "python",
   "nbconvert_exporter": "python",
   "pygments_lexer": "ipython3",
   "version": "3.11.5"
  }
 },
 "nbformat": 4,
 "nbformat_minor": 2
}

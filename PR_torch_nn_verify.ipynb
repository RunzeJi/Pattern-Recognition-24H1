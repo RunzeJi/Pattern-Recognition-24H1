{
 "cells": [
  {
   "cell_type": "code",
   "execution_count": null,
   "metadata": {},
   "outputs": [],
   "source": [
    "import os\n",
    "import pandas as pd\n",
    "from tqdm import tqdm\n",
    "import torch\n",
    "from torch.utils.data import Dataset, DataLoader"
   ]
  },
  {
   "cell_type": "code",
   "execution_count": null,
   "metadata": {},
   "outputs": [],
   "source": [
    "TEST_DATASET_PATH = '../../PR/test_dataset'\n",
    "MODEL_PATH = '../../PR/model2.ptm'\n",
    "TEST_FILES = os.listdir(TEST_DATASET_PATH)\n",
    "\n",
    "print(f'[verify] Found {len(TEST_FILES)} Test Files\\n')\n",
    "\n",
    "X_verify_all = []\n",
    "\n",
    "test_files_pb = tqdm(TEST_FILES,'[preproc.transform] Transforming Data...')\n",
    "\n",
    "for file in test_files_pb:\n",
    "    file_path = os.path.join(TEST_DATASET_PATH, file)\n",
    "    data = pd.read_csv(file_path)\n",
    "\n",
    "    # 转换时间列，提取特征等\n",
    "    data['time'] = pd.to_datetime(data['time'])\n",
    "    data['hour'] = data['time'].dt.hour\n",
    "    data['day_of_week'] = data['time'].dt.dayofweek\n",
    "    data['month'] = data['time'].dt.month\n",
    "\n",
    "    X_verify = data[['渔船ID', 'lat', 'lon', '速度', '方向', 'hour', 'day_of_week', 'month']]\n",
    "    #X_test = data[['lat', 'lon', '速度', '方向', 'hour', 'day_of_week', 'month']]\n",
    "\n",
    "    X_verify_all.append(X_verify)\n",
    "\n",
    "# 将所有数据合并为一个大的 DataFrame\n",
    "X_verify = pd.concat(X_verify_all, ignore_index=True)\n",
    "X_verify"
   ]
  },
  {
   "cell_type": "code",
   "execution_count": null,
   "metadata": {},
   "outputs": [],
   "source": [
    "X_verify_tensor = torch.tensor(X_verify[['lat', 'lon', '速度', '方向', 'hour', 'day_of_week', 'month']].values, dtype=torch.float32)\n",
    "class TestDataset(Dataset):\n",
    "    def __init__(self, features):\n",
    "        self.features = features\n",
    "    \n",
    "    def __len__(self):\n",
    "        return len(self.features)\n",
    "    \n",
    "    def __getitem__(self, idx):\n",
    "        return self.features[idx]\n",
    "    \n",
    "verify_dataset = TestDataset(X_verify_tensor)\n",
    "verify_loader = DataLoader(dataset=verify_dataset, batch_size=64, shuffle=False)\n",
    "\n",
    "import torch.nn as nn\n",
    "import torch.nn.functional as F\n",
    "\n",
    "class FishingVesselNet(nn.Module):\n",
    "    def __init__(self, num_features, num_classes):\n",
    "        super(FishingVesselNet, self).__init__()\n",
    "        self.fc1 = nn.Linear(num_features, 128)\n",
    "        self.fc2 = nn.Linear(128, 64)\n",
    "        self.fc3 = nn.Linear(64, 32)\n",
    "        self.fc4 = nn.Linear(32, num_classes)\n",
    "\n",
    "    def forward(self, x):\n",
    "\n",
    "        x = F.sigmoid(self.fc1(x))\n",
    "        x = F.sigmoid(self.fc2(x))\n",
    "        x = F.sigmoid(self.fc3(x))\n",
    "        x = self.fc4(x)\n",
    "\n",
    "        return x\n",
    "    \n",
    "# 实例化模型\n",
    "num_features = X_verify.drop('渔船ID', axis=1).shape[1]\n",
    "num_classes = 3\n",
    "\n",
    "import torch.optim as optim\n",
    "model = FishingVesselNet(num_features, num_classes)\n",
    "optimizer = optim.Adam(model.parameters(), lr=0.001)\n",
    "checkpoint = torch.load(MODEL_PATH)\n",
    "\n",
    "model.eval()"
   ]
  },
  {
   "cell_type": "code",
   "execution_count": null,
   "metadata": {},
   "outputs": [],
   "source": [
    "predictions = []\n",
    "verify_loader_pb = tqdm(verify_loader, '[torch.test] Testing Accuracy')\n",
    "with torch.no_grad():\n",
    "    for inputs in verify_loader_pb:\n",
    "        outputs = model(inputs)\n",
    "        _, predicted = torch.max(outputs.data, 1)\n",
    "        predictions.extend(predicted.cpu().numpy())"
   ]
  },
  {
   "cell_type": "code",
   "execution_count": null,
   "metadata": {},
   "outputs": [],
   "source": [
    "ids = X_verify['渔船ID'].values\n",
    "\n",
    "# 创建一个DataFrame来存储预测结果\n",
    "predictions_df = pd.DataFrame({\n",
    "    '渔船ID': ids,\n",
    "    'type': predictions\n",
    "})\n",
    "\n",
    "# 显示DataFrame的前几行以确认\n",
    "predictions_df.head()"
   ]
  },
  {
   "cell_type": "code",
   "execution_count": null,
   "metadata": {},
   "outputs": [],
   "source": [
    "X_replaced = predictions_df[['渔船ID', 'type']].replace({0:\"刺网\", 1:\"围网\", 2:\"拖网\"})\n",
    "X_replaced"
   ]
  },
  {
   "cell_type": "code",
   "execution_count": null,
   "metadata": {},
   "outputs": [],
   "source": [
    "X_final = X_replaced.drop_duplicates(subset='渔船ID', keep='first')\n",
    "X_final"
   ]
  },
  {
   "cell_type": "code",
   "execution_count": null,
   "metadata": {},
   "outputs": [],
   "source": [
    "X_final.to_csv('../../PR/submissions/nn/submission_nn.csv', index=False)"
   ]
  }
 ],
 "metadata": {
  "kernelspec": {
   "display_name": "Python 3",
   "language": "python",
   "name": "python3"
  },
  "language_info": {
   "codemirror_mode": {
    "name": "ipython",
    "version": 3
   },
   "file_extension": ".py",
   "mimetype": "text/x-python",
   "name": "python",
   "nbconvert_exporter": "python",
   "pygments_lexer": "ipython3",
   "version": "3.11.5"
  }
 },
 "nbformat": 4,
 "nbformat_minor": 2
}
